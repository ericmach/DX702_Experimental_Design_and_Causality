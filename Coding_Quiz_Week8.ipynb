{
 "cells": [
  {
   "cell_type": "code",
   "execution_count": 1,
   "metadata": {},
   "outputs": [],
   "source": [
    "import pandas as pd\n",
    "from sklearn.linear_model import LogisticRegression\n",
    "import numpy as np\n",
    "from scipy.spatial.distance import mahalanobis"
   ]
  },
  {
   "cell_type": "code",
   "execution_count": 2,
   "metadata": {},
   "outputs": [
    {
     "data": {
      "text/html": [
       "<div>\n",
       "<style scoped>\n",
       "    .dataframe tbody tr th:only-of-type {\n",
       "        vertical-align: middle;\n",
       "    }\n",
       "\n",
       "    .dataframe tbody tr th {\n",
       "        vertical-align: top;\n",
       "    }\n",
       "\n",
       "    .dataframe thead th {\n",
       "        text-align: right;\n",
       "    }\n",
       "</style>\n",
       "<table border=\"1\" class=\"dataframe\">\n",
       "  <thead>\n",
       "    <tr style=\"text-align: right;\">\n",
       "      <th></th>\n",
       "      <th>Unnamed: 0</th>\n",
       "      <th>X</th>\n",
       "      <th>Y</th>\n",
       "      <th>Z</th>\n",
       "    </tr>\n",
       "  </thead>\n",
       "  <tbody>\n",
       "    <tr>\n",
       "      <th>0</th>\n",
       "      <td>0</td>\n",
       "      <td>1</td>\n",
       "      <td>4.109218</td>\n",
       "      <td>1.764052</td>\n",
       "    </tr>\n",
       "    <tr>\n",
       "      <th>1</th>\n",
       "      <td>1</td>\n",
       "      <td>0</td>\n",
       "      <td>2.259504</td>\n",
       "      <td>0.400157</td>\n",
       "    </tr>\n",
       "    <tr>\n",
       "      <th>2</th>\n",
       "      <td>2</td>\n",
       "      <td>0</td>\n",
       "      <td>-0.647584</td>\n",
       "      <td>0.978738</td>\n",
       "    </tr>\n",
       "    <tr>\n",
       "      <th>3</th>\n",
       "      <td>3</td>\n",
       "      <td>0</td>\n",
       "      <td>2.106071</td>\n",
       "      <td>2.240893</td>\n",
       "    </tr>\n",
       "    <tr>\n",
       "      <th>4</th>\n",
       "      <td>4</td>\n",
       "      <td>1</td>\n",
       "      <td>3.583464</td>\n",
       "      <td>1.867558</td>\n",
       "    </tr>\n",
       "  </tbody>\n",
       "</table>\n",
       "</div>"
      ],
      "text/plain": [
       "   Unnamed: 0  X         Y         Z\n",
       "0           0  1  4.109218  1.764052\n",
       "1           1  0  2.259504  0.400157\n",
       "2           2  0 -0.647584  0.978738\n",
       "3           3  0  2.106071  2.240893\n",
       "4           4  1  3.583464  1.867558"
      ]
     },
     "execution_count": 2,
     "metadata": {},
     "output_type": "execute_result"
    }
   ],
   "source": [
    "df = pd.read_csv('homework_8.1.csv')\n",
    "df.head()"
   ]
  },
  {
   "cell_type": "code",
   "execution_count": 3,
   "metadata": {},
   "outputs": [
    {
     "data": {
      "text/plain": [
       "np.float64(2.2743411898510133)"
      ]
     },
     "execution_count": 3,
     "metadata": {},
     "output_type": "execute_result"
    }
   ],
   "source": [
    "# Step 1: Estimate propensity scores using logistic regression\n",
    "X_covariate = df[['Z']]\n",
    "treatment = df['X']\n",
    "\n",
    "log_reg = LogisticRegression()\n",
    "log_reg.fit(X_covariate, treatment)\n",
    "\n",
    "# Step 2: Predict propensity scores\n",
    "propensity_scores = log_reg.predict_proba(X_covariate)[:, 1]\n",
    "\n",
    "# Step 3: Compute inverse probability weights\n",
    "weights = np.where(df['X'] == 1, 1 / propensity_scores, 1 / (1 - propensity_scores))\n",
    "\n",
    "# Step 4: Compute weighted average outcome for treated and untreated\n",
    "weighted_y_treated = np.sum((df['Y'] * weights)[df['X'] == 1]) / np.sum(weights[df['X'] == 1])\n",
    "weighted_y_untreated = np.sum((df['Y'] * weights)[df['X'] == 0]) / np.sum(weights[df['X'] == 0])\n",
    "\n",
    "# Average Treatment Effect (ATE)\n",
    "ate_ipw = weighted_y_treated - weighted_y_untreated\n",
    "ate_ipw"
   ]
  },
  {
   "cell_type": "code",
   "execution_count": 8,
   "metadata": {},
   "outputs": [
    {
     "data": {
      "text/plain": [
       "array([0.84011371, 0.58464597, 0.71108245])"
      ]
     },
     "execution_count": 8,
     "metadata": {},
     "output_type": "execute_result"
    }
   ],
   "source": [
    "# Display the first three propensity scores\n",
    "propensity_scores[:3]"
   ]
  },
  {
   "cell_type": "code",
   "execution_count": 10,
   "metadata": {},
   "outputs": [
    {
     "data": {
      "text/plain": [
       "np.float64(3.437678997912609)"
      ]
     },
     "execution_count": 10,
     "metadata": {},
     "output_type": "execute_result"
    }
   ],
   "source": [
    "df2 = pd.read_csv('homework_8.2.csv')\n",
    "\n",
    "# Split into treated and untreated\n",
    "treated = df2[df2['X'] == 1].reset_index(drop=True)\n",
    "untreated = df2[df2['X'] == 0].reset_index(drop=True)\n",
    "\n",
    "# Extract covariates Z1 and Z2\n",
    "Z_all = df2[['Z1', 'Z2']].values.T\n",
    "cov_matrix = np.cov(Z_all)\n",
    "inv_cov_matrix = np.linalg.inv(cov_matrix)\n",
    "\n",
    "# Match each treated unit to the nearest untreated using Mahalanobis distance\n",
    "matched_outcomes = []\n",
    "for _, row in treated.iterrows():\n",
    "    treated_vector = row[['Z1', 'Z2']].values\n",
    "    distances = untreated[['Z1', 'Z2']].apply(\n",
    "        lambda x: mahalanobis(treated_vector, x.values, inv_cov_matrix), axis=1\n",
    "    )\n",
    "    nearest_index = distances.idxmin()\n",
    "    matched_outcome = untreated.loc[nearest_index, 'Y']\n",
    "    matched_outcomes.append(matched_outcome)\n",
    "\n",
    "# Calculate the ATE: mean(Y_treated - Y_matched_untreated)\n",
    "ate_mahalanobis = (treated['Y'].values - np.array(matched_outcomes)).mean()\n",
    "ate_mahalanobis"
   ]
  },
  {
   "cell_type": "code",
   "execution_count": 11,
   "metadata": {},
   "outputs": [
    {
     "data": {
      "text/plain": [
       "[2.6962240525635797, 0.5381554886023228]"
      ]
     },
     "execution_count": 11,
     "metadata": {},
     "output_type": "execute_result"
    }
   ],
   "source": [
    "max_min_distance = -1\n",
    "worst_match_index = -1\n",
    "\n",
    "for i, row in treated.iterrows():\n",
    "    treated_vector = row[['Z1', 'Z2']].values\n",
    "    distances = untreated[['Z1', 'Z2']].apply(\n",
    "        lambda x: mahalanobis(treated_vector, x.values, inv_cov_matrix), axis=1\n",
    "    )\n",
    "    min_distance = distances.min()\n",
    "    if min_distance > max_min_distance:\n",
    "        max_min_distance = min_distance\n",
    "        worst_match_index = i\n",
    "\n",
    "# Get the Z1 and Z2 values for the treated item with least common support\n",
    "least_support_Z_values = treated.loc[worst_match_index, ['Z1', 'Z2']]\n",
    "least_support_Z_values.tolist()"
   ]
  }
 ],
 "metadata": {
  "kernelspec": {
   "display_name": "Python 3",
   "language": "python",
   "name": "python3"
  },
  "language_info": {
   "codemirror_mode": {
    "name": "ipython",
    "version": 3
   },
   "file_extension": ".py",
   "mimetype": "text/x-python",
   "name": "python",
   "nbconvert_exporter": "python",
   "pygments_lexer": "ipython3",
   "version": "3.12.1"
  }
 },
 "nbformat": 4,
 "nbformat_minor": 2
}
