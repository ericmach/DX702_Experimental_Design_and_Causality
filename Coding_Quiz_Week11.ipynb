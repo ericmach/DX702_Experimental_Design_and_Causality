{
 "cells": [
  {
   "cell_type": "code",
   "execution_count": 2,
   "metadata": {},
   "outputs": [],
   "source": [
    "import numpy as np \n",
    "import statsmodels.api as sm"
   ]
  },
  {
   "cell_type": "code",
   "execution_count": 32,
   "metadata": {},
   "outputs": [
    {
     "name": "stdout",
     "output_type": "stream",
     "text": [
      "1.8596250498156004\n"
     ]
    }
   ],
   "source": [
    "num = 1000 \n",
    " \n",
    "event_time = int(num / 2) \n",
    " \n",
    "R_market = np.random.normal(0, 1, num) + np.arange(num) / num \n",
    " \n",
    "R_target = 2 + R_market + np.random.normal(0, 1, num) + (np.arange(num) == int(num / 2) + 1) * 2 \n",
    " \n",
    "results = sm.OLS(R_target[:event_time], sm.add_constant(R_market[:event_time])).fit() \n",
    " \n",
    "alpha, beta = results.params \n",
    " \n",
    "resid = R_target - results.predict(sm.add_constant(R_market)) \n",
    " \n",
    "print(resid[event_time + 1] / resid[:event_time].std(ddof = 2)) "
   ]
  },
  {
   "cell_type": "code",
   "execution_count": 40,
   "metadata": {},
   "outputs": [
    {
     "data": {
      "text/plain": [
       "np.float64(0.045657015590200446)"
      ]
     },
     "execution_count": 40,
     "metadata": {},
     "output_type": "execute_result"
    }
   ],
   "source": [
    "# Initialize\n",
    "np.random.seed(0)\n",
    "\n",
    "# Constants\n",
    "num = 1000\n",
    "true_event_time = int(num / 2)\n",
    "\n",
    "# Generate market returns with slight trend\n",
    "R_market = np.random.normal(0, 1, num) + np.arange(num) / num\n",
    "\n",
    "# Generate target returns with an abnormal spike at true_event_time + 1\n",
    "R_target = (\n",
    "    2\n",
    "    + R_market\n",
    "    + np.random.normal(0, 1, num)\n",
    "    + (np.arange(num) == (true_event_time + 1)) * 2\n",
    ")\n",
    "\n",
    "# Perform placebo tests\n",
    "placebo_t_stats = []\n",
    "\n",
    "for placebo_event_time in range(100, num - 2):  # Leave room for a post-event residual\n",
    "    np.random.seed(0)  # Fix the seed at each iteration\n",
    "\n",
    "    # Use pre-placebo-event data to train the model\n",
    "    results = sm.OLS(R_target[:placebo_event_time], sm.add_constant(R_market[:placebo_event_time])).fit()\n",
    "\n",
    "    # Compute residuals\n",
    "    resid = R_target - results.predict(sm.add_constant(R_market))\n",
    "\n",
    "    # Get standardized residual at the (fictitious) event time + 1\n",
    "    t_stat = resid[placebo_event_time + 1] / resid[:placebo_event_time].std(ddof=2)\n",
    "    placebo_t_stats.append(t_stat)\n",
    "\n",
    "# Compute fraction of placebo tests where |t| > 1.96\n",
    "detected_fraction = np.mean(np.abs(placebo_t_stats) > 1.96)\n",
    "\n",
    "detected_fraction"
   ]
  },
  {
   "cell_type": "code",
   "execution_count": 41,
   "metadata": {},
   "outputs": [
    {
     "data": {
      "text/plain": [
       "np.float64(0.13924999999999998)"
      ]
     },
     "execution_count": 41,
     "metadata": {},
     "output_type": "execute_result"
    }
   ],
   "source": [
    "# Set parameters\n",
    "num = 1000\n",
    "true_event_time = int(num / 2)\n",
    "n_runs = 100  # Number of repeated experiments to average over\n",
    "n_placebos = 20  # Placebo windows before and after the actual event\n",
    "\n",
    "# Store the fraction of placebo t-values exceeding the actual event t-value for each run\n",
    "fractions = []\n",
    "\n",
    "for run in range(n_runs):\n",
    "    np.random.seed(run)  # New dataset each time\n",
    "\n",
    "    # Generate market and target returns\n",
    "    R_market = np.random.normal(0, 1, num) + np.arange(num) / num\n",
    "    R_target = (\n",
    "        2\n",
    "        + R_market\n",
    "        + np.random.normal(0, 1, num)\n",
    "        + (np.arange(num) == (true_event_time + 1)) * 2\n",
    "    )\n",
    "\n",
    "    # Get actual event t-value\n",
    "    results_actual = sm.OLS(R_target[:true_event_time], sm.add_constant(R_market[:true_event_time])).fit()\n",
    "    resid_actual = R_target - results_actual.predict(sm.add_constant(R_market))\n",
    "    actual_t = resid_actual[true_event_time + 1] / resid_actual[:true_event_time].std(ddof=2)\n",
    "\n",
    "    # Store placebo t-values\n",
    "    placebo_t_values = []\n",
    "    placebo_times = list(range(true_event_time - n_placebos, true_event_time)) + \\\n",
    "                    list(range(true_event_time + 1, true_event_time + 1 + n_placebos))\n",
    "\n",
    "    for placebo_time in placebo_times:\n",
    "        # Train only on data before this placebo time\n",
    "        results = sm.OLS(R_target[:placebo_time], sm.add_constant(R_market[:placebo_time])).fit()\n",
    "        resid = R_target - results.predict(sm.add_constant(R_market))\n",
    "        t_stat = resid[placebo_time + 1] / resid[:placebo_time].std(ddof=2)\n",
    "        placebo_t_values.append(t_stat)\n",
    "\n",
    "    # Compute the fraction of placebo t-values greater than actual\n",
    "    fraction_higher = np.mean(np.abs(placebo_t_values) > np.abs(actual_t))\n",
    "    fractions.append(fraction_higher)\n",
    "\n",
    "# Compute the average fraction across runs\n",
    "average_fraction = np.mean(fractions)\n",
    "\n",
    "average_fraction"
   ]
  },
  {
   "cell_type": "code",
   "execution_count": 47,
   "metadata": {},
   "outputs": [],
   "source": [
    "def make_error(corr_const, num): \n",
    " \n",
    "  sigma = 5 * 1 / np.sqrt((1 - corr_const)**2 / (1 - corr_const**2)) \n",
    " \n",
    "  err = list() \n",
    " \n",
    "  prev = np.random.normal(0, sigma) \n",
    " \n",
    "  for n in range(num): \n",
    " \n",
    "    prev = corr_const * prev + (1 - corr_const) * np.random.normal(0, sigma) \n",
    " \n",
    "    err.append(prev) \n",
    " \n",
    "  return np.array(err) "
   ]
  },
  {
   "cell_type": "code",
   "execution_count": 48,
   "metadata": {},
   "outputs": [
    {
     "data": {
      "text/plain": [
       "np.float64(0.50475)"
      ]
     },
     "execution_count": 48,
     "metadata": {},
     "output_type": "execute_result"
    }
   ],
   "source": [
    "# Parameters\n",
    "num = 1000\n",
    "true_event_time = int(num / 2)\n",
    "n_runs = 100  # Number of repeated experiments\n",
    "n_placebos = 20\n",
    "corr_const = 0.9\n",
    "\n",
    "# Store results\n",
    "fractions = []\n",
    "\n",
    "for run in range(n_runs):\n",
    "    np.random.seed(run)  # Different dataset each time\n",
    "\n",
    "    # Generate market returns\n",
    "    R_market = np.random.normal(0, 1, num) + np.arange(num) / num\n",
    "\n",
    "    # Generate autocorrelated errors for R_target\n",
    "    error = make_error(corr_const, num)\n",
    "\n",
    "    # Inject true event at true_event_time + 1\n",
    "    R_target = 2 + R_market + error + (np.arange(num) == (true_event_time + 1)) * 2\n",
    "\n",
    "    # Actual event t-statistic\n",
    "    results_actual = sm.OLS(R_target[:true_event_time], sm.add_constant(R_market[:true_event_time])).fit()\n",
    "    resid_actual = R_target - results_actual.predict(sm.add_constant(R_market))\n",
    "    actual_t = resid_actual[true_event_time + 1] / resid_actual[:true_event_time].std(ddof=2)\n",
    "\n",
    "    # Placebo test\n",
    "    placebo_t_values = []\n",
    "    placebo_times = list(range(true_event_time - n_placebos, true_event_time)) + \\\n",
    "                    list(range(true_event_time + 1, true_event_time + 1 + n_placebos))\n",
    "\n",
    "    for placebo_time in placebo_times:\n",
    "        results = sm.OLS(R_target[:placebo_time], sm.add_constant(R_market[:placebo_time])).fit()\n",
    "        resid = R_target - results.predict(sm.add_constant(R_market))\n",
    "        t_stat = resid[placebo_time + 1] / resid[:placebo_time].std(ddof=2)\n",
    "        placebo_t_values.append(t_stat)\n",
    "\n",
    "    # Fraction of placebo t-values greater than actual\n",
    "    fraction_higher = np.mean(np.abs(placebo_t_values) > np.abs(actual_t))\n",
    "    fractions.append(fraction_higher)\n",
    "\n",
    "# Average fraction across runs\n",
    "average_fraction_corr = np.mean(fractions)\n",
    "\n",
    "average_fraction_corr"
   ]
  }
 ],
 "metadata": {
  "kernelspec": {
   "display_name": "Python 3",
   "language": "python",
   "name": "python3"
  },
  "language_info": {
   "codemirror_mode": {
    "name": "ipython",
    "version": 3
   },
   "file_extension": ".py",
   "mimetype": "text/x-python",
   "name": "python",
   "nbconvert_exporter": "python",
   "pygments_lexer": "ipython3",
   "version": "3.12.1"
  }
 },
 "nbformat": 4,
 "nbformat_minor": 2
}
