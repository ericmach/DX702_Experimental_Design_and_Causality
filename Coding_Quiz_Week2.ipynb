{
 "cells": [
  {
   "cell_type": "code",
   "execution_count": 5,
   "metadata": {},
   "outputs": [],
   "source": [
    "import numpy as np\n",
    "import scipy\n",
    "import pandas as pd\n",
    "import matplotlib.pyplot as plt\n",
    "import statsmodels.formula.api as sm\n",
    "from sklearn.metrics import root_mean_squared_error"
   ]
  },
  {
   "cell_type": "code",
   "execution_count": 2,
   "metadata": {},
   "outputs": [
    {
     "data": {
      "text/html": [
       "<div>\n",
       "<style scoped>\n",
       "    .dataframe tbody tr th:only-of-type {\n",
       "        vertical-align: middle;\n",
       "    }\n",
       "\n",
       "    .dataframe tbody tr th {\n",
       "        vertical-align: top;\n",
       "    }\n",
       "\n",
       "    .dataframe thead th {\n",
       "        text-align: right;\n",
       "    }\n",
       "</style>\n",
       "<table border=\"1\" class=\"dataframe\">\n",
       "  <thead>\n",
       "    <tr style=\"text-align: right;\">\n",
       "      <th></th>\n",
       "      <th>Unnamed: 0</th>\n",
       "      <th>time</th>\n",
       "      <th>G1</th>\n",
       "      <th>G2</th>\n",
       "      <th>G3</th>\n",
       "    </tr>\n",
       "  </thead>\n",
       "  <tbody>\n",
       "    <tr>\n",
       "      <th>0</th>\n",
       "      <td>0</td>\n",
       "      <td>0</td>\n",
       "      <td>0.882026</td>\n",
       "      <td>1.441575</td>\n",
       "      <td>0.065409</td>\n",
       "    </tr>\n",
       "    <tr>\n",
       "      <th>1</th>\n",
       "      <td>1</td>\n",
       "      <td>1</td>\n",
       "      <td>0.210079</td>\n",
       "      <td>-0.163880</td>\n",
       "      <td>0.140310</td>\n",
       "    </tr>\n",
       "    <tr>\n",
       "      <th>2</th>\n",
       "      <td>2</td>\n",
       "      <td>2</td>\n",
       "      <td>0.509369</td>\n",
       "      <td>-0.115242</td>\n",
       "      <td>0.819830</td>\n",
       "    </tr>\n",
       "    <tr>\n",
       "      <th>3</th>\n",
       "      <td>3</td>\n",
       "      <td>3</td>\n",
       "      <td>1.150447</td>\n",
       "      <td>1.014698</td>\n",
       "      <td>0.607632</td>\n",
       "    </tr>\n",
       "    <tr>\n",
       "      <th>4</th>\n",
       "      <td>4</td>\n",
       "      <td>4</td>\n",
       "      <td>0.973779</td>\n",
       "      <td>-0.046562</td>\n",
       "      <td>0.610066</td>\n",
       "    </tr>\n",
       "  </tbody>\n",
       "</table>\n",
       "</div>"
      ],
      "text/plain": [
       "   Unnamed: 0  time        G1        G2        G3\n",
       "0           0     0  0.882026  1.441575  0.065409\n",
       "1           1     1  0.210079 -0.163880  0.140310\n",
       "2           2     2  0.509369 -0.115242  0.819830\n",
       "3           3     3  1.150447  1.014698  0.607632\n",
       "4           4     4  0.973779 -0.046562  0.610066"
      ]
     },
     "execution_count": 2,
     "metadata": {},
     "output_type": "execute_result"
    }
   ],
   "source": [
    "df = pd.read_csv('homework_2.1.csv')\n",
    "df.head()"
   ]
  },
  {
   "cell_type": "code",
   "execution_count": 7,
   "metadata": {},
   "outputs": [
    {
     "data": {
      "text/html": [
       "<table class=\"simpletable\">\n",
       "<caption>OLS Regression Results</caption>\n",
       "<tr>\n",
       "  <th>Dep. Variable:</th>         <td>outcome</td>     <th>  R-squared:         </th> <td>   0.311</td>\n",
       "</tr>\n",
       "<tr>\n",
       "  <th>Model:</th>                   <td>OLS</td>       <th>  Adj. R-squared:    </th> <td>   0.304</td>\n",
       "</tr>\n",
       "<tr>\n",
       "  <th>Method:</th>             <td>Least Squares</td>  <th>  F-statistic:       </th> <td>   44.55</td>\n",
       "</tr>\n",
       "<tr>\n",
       "  <th>Date:</th>             <td>Sun, 01 Jun 2025</td> <th>  Prob (F-statistic):</th> <td>8.72e-24</td>\n",
       "</tr>\n",
       "<tr>\n",
       "  <th>Time:</th>                 <td>19:45:00</td>     <th>  Log-Likelihood:    </th> <td> -216.89</td>\n",
       "</tr>\n",
       "<tr>\n",
       "  <th>No. Observations:</th>      <td>   300</td>      <th>  AIC:               </th> <td>   441.8</td>\n",
       "</tr>\n",
       "<tr>\n",
       "  <th>Df Residuals:</th>          <td>   296</td>      <th>  BIC:               </th> <td>   456.6</td>\n",
       "</tr>\n",
       "<tr>\n",
       "  <th>Df Model:</th>              <td>     3</td>      <th>                     </th>     <td> </td>   \n",
       "</tr>\n",
       "<tr>\n",
       "  <th>Covariance Type:</th>      <td>nonrobust</td>    <th>                     </th>     <td> </td>   \n",
       "</tr>\n",
       "</table>\n",
       "<table class=\"simpletable\">\n",
       "<tr>\n",
       "         <td></td>           <th>coef</th>     <th>std err</th>      <th>t</th>      <th>P>|t|</th>  <th>[0.025</th>    <th>0.975]</th>  \n",
       "</tr>\n",
       "<tr>\n",
       "  <th>Intercept</th>      <td>    0.0786</td> <td>    0.071</td> <td>    1.112</td> <td> 0.267</td> <td>   -0.060</td> <td>    0.218</td>\n",
       "</tr>\n",
       "<tr>\n",
       "  <th>C(group)[T.G2]</th> <td>    0.5111</td> <td>    0.071</td> <td>    7.200</td> <td> 0.000</td> <td>    0.371</td> <td>    0.651</td>\n",
       "</tr>\n",
       "<tr>\n",
       "  <th>C(group)[T.G3]</th> <td>    0.1905</td> <td>    0.071</td> <td>    2.683</td> <td> 0.008</td> <td>    0.051</td> <td>    0.330</td>\n",
       "</tr>\n",
       "<tr>\n",
       "  <th>time</th>           <td>    0.0090</td> <td>    0.001</td> <td>    8.982</td> <td> 0.000</td> <td>    0.007</td> <td>    0.011</td>\n",
       "</tr>\n",
       "</table>\n",
       "<table class=\"simpletable\">\n",
       "<tr>\n",
       "  <th>Omnibus:</th>       <td> 2.113</td> <th>  Durbin-Watson:     </th> <td>   2.062</td>\n",
       "</tr>\n",
       "<tr>\n",
       "  <th>Prob(Omnibus):</th> <td> 0.348</td> <th>  Jarque-Bera (JB):  </th> <td>   1.817</td>\n",
       "</tr>\n",
       "<tr>\n",
       "  <th>Skew:</th>          <td> 0.066</td> <th>  Prob(JB):          </th> <td>   0.403</td>\n",
       "</tr>\n",
       "<tr>\n",
       "  <th>Kurtosis:</th>      <td> 2.642</td> <th>  Cond. No.          </th> <td>    198.</td>\n",
       "</tr>\n",
       "</table><br/><br/>Notes:<br/>[1] Standard Errors assume that the covariance matrix of the errors is correctly specified."
      ],
      "text/latex": [
       "\\begin{center}\n",
       "\\begin{tabular}{lclc}\n",
       "\\toprule\n",
       "\\textbf{Dep. Variable:}    &     outcome      & \\textbf{  R-squared:         } &     0.311   \\\\\n",
       "\\textbf{Model:}            &       OLS        & \\textbf{  Adj. R-squared:    } &     0.304   \\\\\n",
       "\\textbf{Method:}           &  Least Squares   & \\textbf{  F-statistic:       } &     44.55   \\\\\n",
       "\\textbf{Date:}             & Sun, 01 Jun 2025 & \\textbf{  Prob (F-statistic):} &  8.72e-24   \\\\\n",
       "\\textbf{Time:}             &     19:45:00     & \\textbf{  Log-Likelihood:    } &   -216.89   \\\\\n",
       "\\textbf{No. Observations:} &         300      & \\textbf{  AIC:               } &     441.8   \\\\\n",
       "\\textbf{Df Residuals:}     &         296      & \\textbf{  BIC:               } &     456.6   \\\\\n",
       "\\textbf{Df Model:}         &           3      & \\textbf{                     } &             \\\\\n",
       "\\textbf{Covariance Type:}  &    nonrobust     & \\textbf{                     } &             \\\\\n",
       "\\bottomrule\n",
       "\\end{tabular}\n",
       "\\begin{tabular}{lcccccc}\n",
       "                        & \\textbf{coef} & \\textbf{std err} & \\textbf{t} & \\textbf{P$> |$t$|$} & \\textbf{[0.025} & \\textbf{0.975]}  \\\\\n",
       "\\midrule\n",
       "\\textbf{Intercept}      &       0.0786  &        0.071     &     1.112  &         0.267        &       -0.060    &        0.218     \\\\\n",
       "\\textbf{C(group)[T.G2]} &       0.5111  &        0.071     &     7.200  &         0.000        &        0.371    &        0.651     \\\\\n",
       "\\textbf{C(group)[T.G3]} &       0.1905  &        0.071     &     2.683  &         0.008        &        0.051    &        0.330     \\\\\n",
       "\\textbf{time}           &       0.0090  &        0.001     &     8.982  &         0.000        &        0.007    &        0.011     \\\\\n",
       "\\bottomrule\n",
       "\\end{tabular}\n",
       "\\begin{tabular}{lclc}\n",
       "\\textbf{Omnibus:}       &  2.113 & \\textbf{  Durbin-Watson:     } &    2.062  \\\\\n",
       "\\textbf{Prob(Omnibus):} &  0.348 & \\textbf{  Jarque-Bera (JB):  } &    1.817  \\\\\n",
       "\\textbf{Skew:}          &  0.066 & \\textbf{  Prob(JB):          } &    0.403  \\\\\n",
       "\\textbf{Kurtosis:}      &  2.642 & \\textbf{  Cond. No.          } &     198.  \\\\\n",
       "\\bottomrule\n",
       "\\end{tabular}\n",
       "%\\caption{OLS Regression Results}\n",
       "\\end{center}\n",
       "\n",
       "Notes: \\newline\n",
       " [1] Standard Errors assume that the covariance matrix of the errors is correctly specified."
      ],
      "text/plain": [
       "<class 'statsmodels.iolib.summary.Summary'>\n",
       "\"\"\"\n",
       "                            OLS Regression Results                            \n",
       "==============================================================================\n",
       "Dep. Variable:                outcome   R-squared:                       0.311\n",
       "Model:                            OLS   Adj. R-squared:                  0.304\n",
       "Method:                 Least Squares   F-statistic:                     44.55\n",
       "Date:                Sun, 01 Jun 2025   Prob (F-statistic):           8.72e-24\n",
       "Time:                        19:45:00   Log-Likelihood:                -216.89\n",
       "No. Observations:                 300   AIC:                             441.8\n",
       "Df Residuals:                     296   BIC:                             456.6\n",
       "Df Model:                           3                                         \n",
       "Covariance Type:            nonrobust                                         \n",
       "==================================================================================\n",
       "                     coef    std err          t      P>|t|      [0.025      0.975]\n",
       "----------------------------------------------------------------------------------\n",
       "Intercept          0.0786      0.071      1.112      0.267      -0.060       0.218\n",
       "C(group)[T.G2]     0.5111      0.071      7.200      0.000       0.371       0.651\n",
       "C(group)[T.G3]     0.1905      0.071      2.683      0.008       0.051       0.330\n",
       "time               0.0090      0.001      8.982      0.000       0.007       0.011\n",
       "==============================================================================\n",
       "Omnibus:                        2.113   Durbin-Watson:                   2.062\n",
       "Prob(Omnibus):                  0.348   Jarque-Bera (JB):                1.817\n",
       "Skew:                           0.066   Prob(JB):                        0.403\n",
       "Kurtosis:                       2.642   Cond. No.                         198.\n",
       "==============================================================================\n",
       "\n",
       "Notes:\n",
       "[1] Standard Errors assume that the covariance matrix of the errors is correctly specified.\n",
       "\"\"\""
      ]
     },
     "execution_count": 7,
     "metadata": {},
     "output_type": "execute_result"
    }
   ],
   "source": [
    "long_df = df.melt(id_vars='time', value_vars=['G1', 'G2', 'G3'],\n",
    "                  var_name='group', value_name='outcome')\n",
    "\n",
    "# Run OLS regression with group fixed effects\n",
    "model = sm.ols('outcome ~ time + C(group)', data=long_df).fit()\n",
    "\n",
    "# Display regression summary\n",
    "model.summary()"
   ]
  },
  {
   "cell_type": "code",
   "execution_count": 8,
   "metadata": {},
   "outputs": [],
   "source": [
    "import statsmodels.api as sm"
   ]
  },
  {
   "cell_type": "code",
   "execution_count": 17,
   "metadata": {},
   "outputs": [
    {
     "name": "stdout",
     "output_type": "stream",
     "text": [
      "   Unnamed: 0  X         Y         Z\n",
      "0        7300  1  4.516472  0.385913\n",
      "1        7232  0  8.369331  1.109147\n",
      "2        1689  0  6.247470 -1.335559\n",
      "3        4030  0  1.884727  0.445713\n",
      "4        6427  0  3.051743  0.606442\n"
     ]
    }
   ],
   "source": [
    "# Load your data\n",
    "df = pd.read_csv(\"homework_2.2.csv\")\n",
    "\n",
    "# Number of bootstrap samples\n",
    "n_iterations = 1000\n",
    "\n",
    "# Store the bootstrap samples in a list\n",
    "bootstrap_samples = []\n",
    "\n",
    "for _ in range(n_iterations):\n",
    "    sample = df.sample(frac=1, replace=True)\n",
    "    bootstrap_samples.append(sample.reset_index(drop=True))  # Keep consistent indexing\n",
    "\n",
    "# Now you have 1000 full resamples of the original dataset\n",
    "# Example: Access the first bootstrap sample\n",
    "sample_1 = bootstrap_samples[0]\n",
    "print(sample_1.head())"
   ]
  },
  {
   "cell_type": "code",
   "execution_count": 19,
   "metadata": {},
   "outputs": [
    {
     "name": "stdout",
     "output_type": "stream",
     "text": [
      "Mean treatment effect: 2.921\n"
     ]
    }
   ],
   "source": [
    "treated = df[df['X'] == 1]['Y']\n",
    "untreated = df[df['X'] == 0]['Y']\n",
    "\n",
    "# Compute the mean effect\n",
    "mean_effect = treated.mean() - untreated.mean()\n",
    "\n",
    "print(f\"Mean treatment effect: {mean_effect:.3f}\")"
   ]
  },
  {
   "cell_type": "code",
   "execution_count": 20,
   "metadata": {},
   "outputs": [
    {
     "name": "stdout",
     "output_type": "stream",
     "text": [
      "Bootstrap variance of treatment effect: 0.031854\n"
     ]
    }
   ],
   "source": [
    "df = pd.read_csv(\"homework_2.2.csv\")\n",
    "\n",
    "# Replace with actual column names\n",
    "treatment_col = 'X'   # e.g., 0 = untreated, 1 = treated\n",
    "outcome_col = 'Y'       # the variable whose change you're measuring\n",
    "\n",
    "# Bootstrap parameters\n",
    "n_iterations = 1000\n",
    "treatment_effects = []\n",
    "\n",
    "# Bootstrap loop\n",
    "for _ in range(n_iterations):\n",
    "    sample = df.sample(frac=1, replace=True)\n",
    "    treated = sample[sample[treatment_col] == 1][outcome_col]\n",
    "    untreated = sample[sample[treatment_col] == 0][outcome_col]\n",
    "    \n",
    "    effect = treated.mean() - untreated.mean()\n",
    "    treatment_effects.append(effect)\n",
    "\n",
    "# Estimate variance of the bootstrap treatment effects\n",
    "variance = np.var(treatment_effects, ddof=1)  # Sample variance\n",
    "print(f\"Bootstrap variance of treatment effect: {variance:.6f}\")"
   ]
  },
  {
   "cell_type": "code",
   "execution_count": 22,
   "metadata": {},
   "outputs": [],
   "source": [
    "from scipy.stats import skew"
   ]
  },
  {
   "cell_type": "code",
   "execution_count": 23,
   "metadata": {},
   "outputs": [
    {
     "data": {
      "text/plain": [
       "np.float64(0.07958004464486507)"
      ]
     },
     "execution_count": 23,
     "metadata": {},
     "output_type": "execute_result"
    }
   ],
   "source": [
    "n_iterations = 1000\n",
    "treatment_effects = []\n",
    "\n",
    "# Perform bootstrap sampling and run regression Y ~ X\n",
    "for _ in range(n_iterations):\n",
    "    sample = df.sample(frac=1, replace=True)\n",
    "    X_boot = sm.add_constant(sample[\"X\"])\n",
    "    y_boot = sample[\"Y\"]\n",
    "    model = sm.OLS(y_boot, X_boot).fit()\n",
    "    treatment_effects.append(model.params[\"X\"])\n",
    "\n",
    "# Compute skewness of the bootstrap treatment effect estimates\n",
    "treatment_skewness = skew(treatment_effects)\n",
    "treatment_skewness"
   ]
  }
 ],
 "metadata": {
  "kernelspec": {
   "display_name": "Python 3",
   "language": "python",
   "name": "python3"
  },
  "language_info": {
   "codemirror_mode": {
    "name": "ipython",
    "version": 3
   },
   "file_extension": ".py",
   "mimetype": "text/x-python",
   "name": "python",
   "nbconvert_exporter": "python",
   "pygments_lexer": "ipython3",
   "version": "3.12.1"
  }
 },
 "nbformat": 4,
 "nbformat_minor": 2
}
