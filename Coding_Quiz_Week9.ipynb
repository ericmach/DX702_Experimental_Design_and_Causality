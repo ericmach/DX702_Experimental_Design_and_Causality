{
 "cells": [
  {
   "cell_type": "code",
   "execution_count": 16,
   "metadata": {},
   "outputs": [
    {
     "data": {
      "text/plain": [
       "np.float64(86.6)"
      ]
     },
     "execution_count": 16,
     "metadata": {},
     "output_type": "execute_result"
    }
   ],
   "source": [
    "import numpy as np\n",
    "import statsmodels.api as sm\n",
    "\n",
    "np.random.seed(42)\n",
    "\n",
    "# Simulate the data\n",
    "def simulate(A=1, B=1, C=10, D=1000):\n",
    "    W = np.random.normal(0, 1, D)\n",
    "    X = W + np.random.normal(0, B, D)\n",
    "    Y = A * X - W + np.random.normal(0, C, D)\n",
    "    return Y, X, W\n",
    "\n",
    "# Run simulation to compute probability of detecting a nonzero effect (t-value > 1.96)\n",
    "def simulate_regression_probability(A=1, B=1, C=10, D=1000, num_simulations=1000):\n",
    "    t_values = []\n",
    "    \n",
    "    for _ in range(num_simulations):\n",
    "        Y, X, W = simulate(A, B, C, D)\n",
    "        X = sm.add_constant(X)  # Add constant (intercept) to the model\n",
    "        model = sm.OLS(Y, np.column_stack((X, W))).fit()  # Fit model with X and W as predictors\n",
    "        t_values.append(model.tvalues[1])  # Get t-value for X (1st predictor)\n",
    "    \n",
    "    # Calculate the proportion of t-values greater than 1.96 in absolute value\n",
    "    proportion = np.mean(np.abs(t_values) > 1.96)\n",
    "    return proportion\n",
    "\n",
    "# Run the simulation\n",
    "probability = simulate_regression_probability(A=1, B=1, C=10, D=1000, num_simulations=1000)\n",
    "probability * 100  # Return as percentage"
   ]
  },
  {
   "cell_type": "code",
   "execution_count": 44,
   "metadata": {},
   "outputs": [
    {
     "data": {
      "text/plain": [
       "np.float64(-0.003495101516301757)"
      ]
     },
     "execution_count": 44,
     "metadata": {},
     "output_type": "execute_result"
    }
   ],
   "source": [
    "from scipy.stats import skew\n",
    "\n",
    "# Function to compute skewness of the regression coefficients for X\n",
    "def simulate_regression_skewness(A=1, B=1, C=10, D=1000, num_simulations=1000):\n",
    "    coefficients = []\n",
    "    \n",
    "    for _ in range(num_simulations):\n",
    "        Y, X, W = simulate(A, B, C, D)\n",
    "        X = sm.add_constant(X)  # Add constant (intercept) to the model\n",
    "        model = sm.OLS(Y, np.column_stack((X, W))).fit()  # Fit model with X and W as predictors\n",
    "        coefficients.append(model.params[1])  # Get coefficient for X (1st predictor)\n",
    "    \n",
    "    # Calculate skewness of the coefficients for X\n",
    "    return skew(coefficients)\n",
    "\n",
    "# Run the simulation to calculate skewness\n",
    "skewness = simulate_regression_skewness(A=1, B=1, C=10, D=1000, num_simulations=10000)\n",
    "skewness  # Return the skewness value"
   ]
  },
  {
   "cell_type": "code",
   "execution_count": 23,
   "metadata": {},
   "outputs": [
    {
     "data": {
      "text/plain": [
       "(0.6, np.float64(49.9))"
      ]
     },
     "execution_count": 23,
     "metadata": {},
     "output_type": "execute_result"
    }
   ],
   "source": [
    "# Function to find B that results in 50% detection of nonzero coefficient for X\n",
    "def find_B_for_detection_probability(A=1, C=10, D=1000, target_probability=0.5, B_values=None, num_simulations=1000):\n",
    "    if B_values is None:\n",
    "        B_values = [0.2, 0.6, 1.8, 5.4]  # A range of B values to check\n",
    "        \n",
    "    probabilities = {}\n",
    "    \n",
    "    for B in B_values:\n",
    "        prob = simulate_regression_probability(A, B, C, D, num_simulations)\n",
    "        probabilities[B] = prob\n",
    "        \n",
    "    closest_B = min(probabilities, key=lambda x: abs(probabilities[x] - target_probability))\n",
    "    return closest_B, probabilities[closest_B]\n",
    "\n",
    "# Find the value of B that results in ~50% detection\n",
    "best_B, detection_probability = find_B_for_detection_probability(A=1, C=10, D=1000, target_probability=0.5)\n",
    "best_B, detection_probability * 100  # Return the closest B value and the detection probability in percentage"
   ]
  },
  {
   "cell_type": "code",
   "execution_count": 24,
   "metadata": {},
   "outputs": [
    {
     "data": {
      "text/plain": [
       "(2.0, np.float64(49.8))"
      ]
     },
     "execution_count": 24,
     "metadata": {},
     "output_type": "execute_result"
    }
   ],
   "source": [
    "# Function to find A that results in 50% detection of nonzero coefficient for X\n",
    "def find_A_for_detection_probability(B=1, C=10, D=100, target_probability=0.5, A_values=None, num_simulations=1000):\n",
    "    if A_values is None:\n",
    "        A_values = [0.5, 1.0, 2.0, 4.0]  # A range of A values to check\n",
    "        \n",
    "    probabilities = {}\n",
    "    \n",
    "    for A in A_values:\n",
    "        prob = simulate_regression_probability(A, B, C, D, num_simulations)\n",
    "        probabilities[A] = prob\n",
    "        \n",
    "    closest_A = min(probabilities, key=lambda x: abs(probabilities[x] - target_probability))\n",
    "    return closest_A, probabilities[closest_A]\n",
    "\n",
    "# Find the value of A that results in ~50% detection\n",
    "best_A, detection_probability = find_A_for_detection_probability(B=1, C=10, D=100, target_probability=0.5)\n",
    "best_A, detection_probability * 100  # Return the closest A value and the detection probability in percentage"
   ]
  }
 ],
 "metadata": {
  "kernelspec": {
   "display_name": "Python 3",
   "language": "python",
   "name": "python3"
  },
  "language_info": {
   "codemirror_mode": {
    "name": "ipython",
    "version": 3
   },
   "file_extension": ".py",
   "mimetype": "text/x-python",
   "name": "python",
   "nbconvert_exporter": "python",
   "pygments_lexer": "ipython3",
   "version": "3.12.1"
  }
 },
 "nbformat": 4,
 "nbformat_minor": 2
}
