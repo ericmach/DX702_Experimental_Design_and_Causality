{
 "cells": [
  {
   "cell_type": "code",
   "execution_count": 1,
   "metadata": {},
   "outputs": [],
   "source": [
    "import numpy as np\n",
    "import pandas as pd\n",
    "import matplotlib.pyplot as plt\n",
    "import scipy\n",
    "import seaborn as sns\n",
    "import statsmodels.api as sm"
   ]
  },
  {
   "cell_type": "code",
   "execution_count": 7,
   "metadata": {},
   "outputs": [
    {
     "data": {
      "text/plain": [
       "{'dataset_a': {'treatment_effect': np.float64(0.6858469689928873),\n",
       "  'std_error': np.float64(0.0625224527015271),\n",
       "  'p_value': np.float64(1.640050297910533e-26)},\n",
       " 'dataset_b': {'treatment_effect': np.float64(1.3498589246939972),\n",
       "  'std_error': np.float64(0.14704706848536234),\n",
       "  'p_value': np.float64(2.432436181923334e-19)}}"
      ]
     },
     "execution_count": 7,
     "metadata": {},
     "output_type": "execute_result"
    }
   ],
   "source": [
    "df_a = pd.read_csv('homework_3.2.a.csv')\n",
    "df_b = pd.read_csv('homework_3.2.b.csv')\n",
    "\n",
    "# Rename columns for consistency\n",
    "df_a = df_a.rename(columns={'group1': 'group', 'time1': 'time', 'outcome1': 'outcome'})\n",
    "df_b = df_b.rename(columns={'group2': 'group', 'time2': 'time', 'outcome2': 'outcome'})\n",
    "\n",
    "# Add interaction terms\n",
    "df_a['group_time'] = df_a['group'] * df_a['time']\n",
    "df_b['group_time'] = df_b['group'] * df_b['time']\n",
    "\n",
    "# Fit DiD regressions separately\n",
    "X_a = sm.add_constant(df_a[['time', 'group', 'group_time']])\n",
    "model_a = sm.OLS(df_a['outcome'], X_a).fit()\n",
    "\n",
    "X_b = sm.add_constant(df_b[['time', 'group', 'group_time']])\n",
    "model_b = sm.OLS(df_b['outcome'], X_b).fit()\n",
    "\n",
    "# Extract treatment effect info from both\n",
    "results = {\n",
    "    'dataset_a': {\n",
    "        'treatment_effect': model_a.params['group_time'],\n",
    "        'std_error': model_a.bse['group_time'],\n",
    "        'p_value': model_a.pvalues['group_time']\n",
    "    },\n",
    "    'dataset_b': {\n",
    "        'treatment_effect': model_b.params['group_time'],\n",
    "        'std_error': model_b.bse['group_time'],\n",
    "        'p_value': model_b.pvalues['group_time']\n",
    "    }\n",
    "}\n",
    "\n",
    "results"
   ]
  }
 ],
 "metadata": {
  "kernelspec": {
   "display_name": "Python 3",
   "language": "python",
   "name": "python3"
  },
  "language_info": {
   "codemirror_mode": {
    "name": "ipython",
    "version": 3
   },
   "file_extension": ".py",
   "mimetype": "text/x-python",
   "name": "python",
   "nbconvert_exporter": "python",
   "pygments_lexer": "ipython3",
   "version": "3.12.1"
  }
 },
 "nbformat": 4,
 "nbformat_minor": 2
}
