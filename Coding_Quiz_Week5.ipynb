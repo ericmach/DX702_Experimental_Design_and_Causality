{
 "cells": [
  {
   "cell_type": "code",
   "execution_count": 2,
   "metadata": {},
   "outputs": [],
   "source": [
    "import numpy as np\n",
    "import pandas as pd\n",
    "import scipy\n",
    "import matplotlib.pyplot as plt\n",
    "import statsmodels.formula.api as smf\n",
    "import statsmodels.api as sm"
   ]
  },
  {
   "cell_type": "code",
   "execution_count": 3,
   "metadata": {},
   "outputs": [],
   "source": [
    "num = 100 \n",
    " \n",
    "difficulty = np.random.uniform(0, 1, (num,)) \n",
    " \n",
    "speed = np.maximum(np.random.normal(15, 5, (num, )) - difficulty * 10, 0) \n",
    " \n",
    "accident = np.minimum(np.maximum(0.03 * speed + 0.4 * difficulty + np.random.normal(0, 0.3, (num,)), 0), 1) \n",
    " \n",
    "df = pd.DataFrame({'difficulty': difficulty, 'speed': speed, 'accident': accident}) "
   ]
  },
  {
   "cell_type": "code",
   "execution_count": 6,
   "metadata": {},
   "outputs": [
    {
     "data": {
      "text/html": [
       "<div>\n",
       "<style scoped>\n",
       "    .dataframe tbody tr th:only-of-type {\n",
       "        vertical-align: middle;\n",
       "    }\n",
       "\n",
       "    .dataframe tbody tr th {\n",
       "        vertical-align: top;\n",
       "    }\n",
       "\n",
       "    .dataframe thead th {\n",
       "        text-align: right;\n",
       "    }\n",
       "</style>\n",
       "<table border=\"1\" class=\"dataframe\">\n",
       "  <thead>\n",
       "    <tr style=\"text-align: right;\">\n",
       "      <th></th>\n",
       "      <th>difficulty</th>\n",
       "      <th>speed</th>\n",
       "      <th>accident</th>\n",
       "    </tr>\n",
       "  </thead>\n",
       "  <tbody>\n",
       "    <tr>\n",
       "      <th>0</th>\n",
       "      <td>0.010143</td>\n",
       "      <td>19.650077</td>\n",
       "      <td>0.038370</td>\n",
       "    </tr>\n",
       "    <tr>\n",
       "      <th>1</th>\n",
       "      <td>0.229877</td>\n",
       "      <td>16.256299</td>\n",
       "      <td>0.499010</td>\n",
       "    </tr>\n",
       "    <tr>\n",
       "      <th>2</th>\n",
       "      <td>0.097240</td>\n",
       "      <td>15.475153</td>\n",
       "      <td>0.014609</td>\n",
       "    </tr>\n",
       "    <tr>\n",
       "      <th>3</th>\n",
       "      <td>0.229962</td>\n",
       "      <td>15.888772</td>\n",
       "      <td>0.593325</td>\n",
       "    </tr>\n",
       "    <tr>\n",
       "      <th>4</th>\n",
       "      <td>0.219850</td>\n",
       "      <td>15.755877</td>\n",
       "      <td>0.913014</td>\n",
       "    </tr>\n",
       "  </tbody>\n",
       "</table>\n",
       "</div>"
      ],
      "text/plain": [
       "   difficulty      speed  accident\n",
       "0    0.010143  19.650077  0.038370\n",
       "1    0.229877  16.256299  0.499010\n",
       "2    0.097240  15.475153  0.014609\n",
       "3    0.229962  15.888772  0.593325\n",
       "4    0.219850  15.755877  0.913014"
      ]
     },
     "execution_count": 6,
     "metadata": {},
     "output_type": "execute_result"
    }
   ],
   "source": [
    "df.head()"
   ]
  },
  {
   "cell_type": "code",
   "execution_count": 15,
   "metadata": {},
   "outputs": [
    {
     "name": "stdout",
     "output_type": "stream",
     "text": [
      "Average coefficient: -9.577078755032588\n"
     ]
    }
   ],
   "source": [
    "coefficients = []\n",
    "\n",
    "for _ in range(1000):  # Run 1000 simulations\n",
    "    num = 100\n",
    "    difficulty = np.random.uniform(0, 1, num)\n",
    "    speed = np.maximum(np.random.normal(15, 5, num) - difficulty * 10, 0)\n",
    "    \n",
    "    # Regress speed on difficulty\n",
    "    X = sm.add_constant(difficulty)\n",
    "    model = sm.OLS(speed, X).fit()\n",
    "    coefficients.append(model.params[1])  # coefficient for 'difficulty'\n",
    "\n",
    "# Compute average coefficient\n",
    "avg_coef = np.mean(coefficients)\n",
    "print(f\"Average coefficient: {avg_coef}\")"
   ]
  },
  {
   "cell_type": "code",
   "execution_count": 19,
   "metadata": {},
   "outputs": [
    {
     "name": "stdout",
     "output_type": "stream",
     "text": [
      "Average coefficient for difficulty: -10.282030869594363\n"
     ]
    }
   ],
   "source": [
    "coefficients = []\n",
    "\n",
    "for _ in range(1000):  # Repeat many times\n",
    "    num = 100\n",
    "    difficulty = np.random.uniform(0, 1, num)\n",
    "    speed = np.maximum(np.random.normal(15, 5, num) - difficulty * 10, 0)\n",
    "    accident = np.clip(0.03 * speed + 0.4 * difficulty + np.random.normal(0, 0.3, num), 0, 1)\n",
    "\n",
    "    df = pd.DataFrame({'difficulty': difficulty, 'speed': speed, 'accident': accident})\n",
    "    \n",
    "    # Regress speed on difficulty and accident\n",
    "    X = sm.add_constant(df[['difficulty', 'accident']])\n",
    "    y = df['speed']\n",
    "    model = sm.OLS(y, X).fit()\n",
    "    coefficients.append(model.params['difficulty'])\n",
    "\n",
    "avg_coef = np.mean(coefficients)\n",
    "print(f\"Average coefficient for difficulty: {avg_coef}\")"
   ]
  }
 ],
 "metadata": {
  "kernelspec": {
   "display_name": "Python 3",
   "language": "python",
   "name": "python3"
  },
  "language_info": {
   "codemirror_mode": {
    "name": "ipython",
    "version": 3
   },
   "file_extension": ".py",
   "mimetype": "text/x-python",
   "name": "python",
   "nbconvert_exporter": "python",
   "pygments_lexer": "ipython3",
   "version": "3.12.1"
  }
 },
 "nbformat": 4,
 "nbformat_minor": 2
}
