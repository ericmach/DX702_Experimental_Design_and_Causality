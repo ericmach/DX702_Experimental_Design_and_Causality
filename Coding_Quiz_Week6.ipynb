{
 "cells": [
  {
   "cell_type": "code",
   "execution_count": 4,
   "metadata": {},
   "outputs": [],
   "source": [
    "import numpy as np\n",
    "import pandas as pd\n",
    "import scipy\n",
    "import matplotlib.pyplot as plt\n",
    "import statsmodels.formula.api as smf\n",
    "import statsmodels.api as sm\n",
    "from sklearn.neighbors import NearestNeighbors"
   ]
  },
  {
   "cell_type": "code",
   "execution_count": 2,
   "metadata": {},
   "outputs": [
    {
     "data": {
      "text/html": [
       "<div>\n",
       "<style scoped>\n",
       "    .dataframe tbody tr th:only-of-type {\n",
       "        vertical-align: middle;\n",
       "    }\n",
       "\n",
       "    .dataframe tbody tr th {\n",
       "        vertical-align: top;\n",
       "    }\n",
       "\n",
       "    .dataframe thead th {\n",
       "        text-align: right;\n",
       "    }\n",
       "</style>\n",
       "<table border=\"1\" class=\"dataframe\">\n",
       "  <thead>\n",
       "    <tr style=\"text-align: right;\">\n",
       "      <th></th>\n",
       "      <th>Unnamed: 0</th>\n",
       "      <th>Z</th>\n",
       "      <th>X</th>\n",
       "      <th>Y</th>\n",
       "    </tr>\n",
       "  </thead>\n",
       "  <tbody>\n",
       "    <tr>\n",
       "      <th>0</th>\n",
       "      <td>0</td>\n",
       "      <td>0.548814</td>\n",
       "      <td>0</td>\n",
       "      <td>-0.823220</td>\n",
       "    </tr>\n",
       "    <tr>\n",
       "      <th>1</th>\n",
       "      <td>1</td>\n",
       "      <td>0.715189</td>\n",
       "      <td>1</td>\n",
       "      <td>0.842405</td>\n",
       "    </tr>\n",
       "    <tr>\n",
       "      <th>2</th>\n",
       "      <td>2</td>\n",
       "      <td>0.602763</td>\n",
       "      <td>1</td>\n",
       "      <td>0.898618</td>\n",
       "    </tr>\n",
       "    <tr>\n",
       "      <th>3</th>\n",
       "      <td>3</td>\n",
       "      <td>0.544883</td>\n",
       "      <td>0</td>\n",
       "      <td>-0.817325</td>\n",
       "    </tr>\n",
       "    <tr>\n",
       "      <th>4</th>\n",
       "      <td>4</td>\n",
       "      <td>0.423655</td>\n",
       "      <td>0</td>\n",
       "      <td>-0.635482</td>\n",
       "    </tr>\n",
       "  </tbody>\n",
       "</table>\n",
       "</div>"
      ],
      "text/plain": [
       "   Unnamed: 0         Z  X         Y\n",
       "0           0  0.548814  0 -0.823220\n",
       "1           1  0.715189  1  0.842405\n",
       "2           2  0.602763  1  0.898618\n",
       "3           3  0.544883  0 -0.817325\n",
       "4           4  0.423655  0 -0.635482"
      ]
     },
     "execution_count": 2,
     "metadata": {},
     "output_type": "execute_result"
    }
   ],
   "source": [
    "df = pd.read_csv('homework_6.1.csv')\n",
    "\n",
    "# Display the first few rows and check column names\n",
    "df.head()"
   ]
  },
  {
   "cell_type": "code",
   "execution_count": 5,
   "metadata": {},
   "outputs": [
    {
     "data": {
      "text/plain": [
       "(np.float64(1.6952701427487222),\n",
       " np.float64(1.846408507179443),\n",
       " np.float64(1.5494765534845105),\n",
       " np.float64(2.1724698851117035))"
      ]
     },
     "execution_count": 5,
     "metadata": {},
     "output_type": "execute_result"
    }
   ],
   "source": [
    "treated = df[df['X'] == 1].reset_index(drop=True)\n",
    "untreated = df[df['X'] == 0].reset_index(drop=True)\n",
    "\n",
    "# Nearest neighbor for each treated unit (for ATT and overall ATE)\n",
    "nn_untreated = NearestNeighbors(n_neighbors=1).fit(untreated[['Z']])\n",
    "dist_treated, idx_treated = nn_untreated.kneighbors(treated[['Z']])\n",
    "counterfactuals_treated = untreated.iloc[idx_treated.flatten()].reset_index(drop=True)\n",
    "\n",
    "# Nearest neighbor for each untreated unit (for ATU and marginal treatment effect)\n",
    "nn_treated = NearestNeighbors(n_neighbors=1).fit(treated[['Z']])\n",
    "dist_untreated, idx_untreated = nn_treated.kneighbors(untreated[['Z']])\n",
    "counterfactuals_untreated = treated.iloc[idx_untreated.flatten()].reset_index(drop=True)\n",
    "\n",
    "# Calculate treatment effects\n",
    "# ATE: All treated + all untreated, matched to the other group\n",
    "treated_effects = treated['Y'].values - counterfactuals_treated['Y'].values\n",
    "untreated_effects = counterfactuals_untreated['Y'].values - untreated['Y'].values\n",
    "ate = np.mean(np.concatenate([treated_effects, untreated_effects]))\n",
    "\n",
    "# ATT: Only treated matched to untreated\n",
    "att = np.mean(treated_effects)\n",
    "\n",
    "# ATU: Only untreated matched to treated\n",
    "atu = np.mean(untreated_effects)\n",
    "\n",
    "# Marginal Treatment Effect: Max treatment effect for untreated items\n",
    "mte = np.max(counterfactuals_untreated['Y'].values - untreated['Y'].values)\n",
    "\n",
    "ate, att, atu, mte"
   ]
  }
 ],
 "metadata": {
  "kernelspec": {
   "display_name": "Python 3",
   "language": "python",
   "name": "python3"
  },
  "language_info": {
   "codemirror_mode": {
    "name": "ipython",
    "version": 3
   },
   "file_extension": ".py",
   "mimetype": "text/x-python",
   "name": "python",
   "nbconvert_exporter": "python",
   "pygments_lexer": "ipython3",
   "version": "3.12.1"
  }
 },
 "nbformat": 4,
 "nbformat_minor": 2
}
