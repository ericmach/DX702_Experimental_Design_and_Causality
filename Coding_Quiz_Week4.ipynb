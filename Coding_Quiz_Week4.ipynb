{
 "cells": [
  {
   "cell_type": "code",
   "execution_count": 7,
   "metadata": {},
   "outputs": [],
   "source": [
    "import numpy as np\n",
    "import pandas as pd\n",
    "import scipy\n",
    "import matplotlib.pyplot as plt\n",
    "import statsmodels.formula.api as smf\n",
    "import statsmodels.api as sm"
   ]
  },
  {
   "cell_type": "code",
   "execution_count": 2,
   "metadata": {},
   "outputs": [
    {
     "data": {
      "text/plain": [
       "(   Unnamed: 0  Z         W         X         Y\n",
       " 0           0  0 -0.155644 -0.496971  0.282484\n",
       " 1           1  1  0.529539  2.284240  4.740596\n",
       " 2           2  1  0.910514  0.872232  3.449569\n",
       " 3           3  1 -0.705476  2.157260  3.002531\n",
       " 4           4  0 -0.590874 -0.386730 -1.848796,\n",
       " ['Unnamed: 0', 'Z', 'W', 'X', 'Y'])"
      ]
     },
     "execution_count": 2,
     "metadata": {},
     "output_type": "execute_result"
    }
   ],
   "source": [
    "df = pd.read_csv('homework_4.1.csv')\n",
    "\n",
    "df.head(), df.columns.tolist()"
   ]
  },
  {
   "cell_type": "code",
   "execution_count": 3,
   "metadata": {},
   "outputs": [
    {
     "data": {
      "text/plain": [
       "np.float64(1.5618587073955674)"
      ]
     },
     "execution_count": 3,
     "metadata": {},
     "output_type": "execute_result"
    }
   ],
   "source": [
    "# First, calculate the average Y and X for Z = 1 and Z = 0\n",
    "mean_Y_Z1 = df[df['Z'] == 1]['Y'].mean()\n",
    "mean_Y_Z0 = df[df['Z'] == 0]['Y'].mean()\n",
    "mean_X_Z1 = df[df['Z'] == 1]['X'].mean()\n",
    "mean_X_Z0 = df[df['Z'] == 0]['X'].mean()\n",
    "\n",
    "# Compute the Wald estimator (effect = delta Y / delta X)\n",
    "delta_Y = mean_Y_Z1 - mean_Y_Z0\n",
    "delta_X = mean_X_Z1 - mean_X_Z0\n",
    "wald_estimate = delta_Y / delta_X\n",
    "\n",
    "wald_estimate"
   ]
  },
  {
   "cell_type": "code",
   "execution_count": 4,
   "metadata": {},
   "outputs": [
    {
     "name": "stderr",
     "output_type": "stream",
     "text": [
      "/var/folders/2r/46mxdql52bn78bp6pr2cps340000gn/T/ipykernel_40111/2614700569.py:8: FutureWarning: The default of observed=False is deprecated and will be changed to True in a future version of pandas. Pass observed=False to retain current behavior or observed=True to adopt the future default and silence this warning.\n",
      "  for _, group in df.groupby('W_bin'):\n"
     ]
    },
    {
     "data": {
      "text/plain": [
       "np.float64(0.9085420555919094)"
      ]
     },
     "execution_count": 4,
     "metadata": {},
     "output_type": "execute_result"
    }
   ],
   "source": [
    "# Define bins over W (e.g., 10 equal-width bins)\n",
    "num_bins = 10\n",
    "df['W_bin'] = pd.cut(df['W'], bins=num_bins)\n",
    "\n",
    "# For each bin, compute the Wald estimator (delta Y / delta X)\n",
    "effects = []\n",
    "\n",
    "for _, group in df.groupby('W_bin'):\n",
    "    mean_Y_Z1 = group[group['Z'] == 1]['Y'].mean()\n",
    "    mean_Y_Z0 = group[group['Z'] == 0]['Y'].mean()\n",
    "    mean_X_Z1 = group[group['Z'] == 1]['X'].mean()\n",
    "    mean_X_Z0 = group[group['Z'] == 0]['X'].mean()\n",
    "\n",
    "    delta_Y = mean_Y_Z1 - mean_Y_Z0\n",
    "    delta_X = mean_X_Z1 - mean_X_Z0\n",
    "\n",
    "    # Avoid division by zero or missing values\n",
    "    if np.isfinite(delta_Y) and np.isfinite(delta_X) and delta_X != 0:\n",
    "        effects.append(delta_Y / delta_X)\n",
    "\n",
    "# Average the local Wald estimates\n",
    "average_local_effect = np.mean(effects)\n",
    "average_local_effect"
   ]
  },
  {
   "cell_type": "code",
   "execution_count": 6,
   "metadata": {},
   "outputs": [
    {
     "data": {
      "text/plain": [
       "(   Unnamed: 0          X  Y\n",
       " 0           0  81.822339  1\n",
       " 1           1  92.487870  0\n",
       " 2           2  85.372460  0\n",
       " 3           3  78.828025  0\n",
       " 4           4  75.807080  1,\n",
       " ['Unnamed: 0', 'X', 'Y'],\n",
       "    Unnamed: 0         X2  Y2\n",
       " 0           0  76.643034   1\n",
       " 1           1  87.743397   1\n",
       " 2           2  81.639469   1\n",
       " 3           3  73.740485   0\n",
       " 4           4  90.480268   1,\n",
       " ['Unnamed: 0', 'X2', 'Y2'])"
      ]
     },
     "execution_count": 6,
     "metadata": {},
     "output_type": "execute_result"
    }
   ],
   "source": [
    "# Load both datasets\n",
    "df_a = pd.read_csv(\"homework_4.2.a.csv\")\n",
    "df_b = pd.read_csv(\"homework_4.2.b.csv\")\n",
    "\n",
    "# Show the first few rows and column names of each to verify structure\n",
    "df_a.head(), df_a.columns.tolist(), df_b.head(), df_b.columns.tolist()"
   ]
  },
  {
   "cell_type": "code",
   "execution_count": 8,
   "metadata": {},
   "outputs": [
    {
     "data": {
      "text/plain": [
       "({'slope_below': np.float64(0.00022383079703675596),\n",
       "  'slope_above': np.float64(0.00016108686482244804),\n",
       "  'r2_below': np.float64(8.623788795625309e-06),\n",
       "  'r2_above': np.float64(3.357626736422148e-06)},\n",
       " {'slope_below': np.float64(0.010216711274456688),\n",
       "  'slope_above': np.float64(0.005008614068236688),\n",
       "  'r2_below': np.float64(0.016161139360567178),\n",
       "  'r2_above': np.float64(0.013428593795579924)})"
      ]
     },
     "execution_count": 8,
     "metadata": {},
     "output_type": "execute_result"
    }
   ],
   "source": [
    "# Define a function to perform linear regression on either side of the cutoff\n",
    "def analyze_rdd(df, score_col, outcome_col, cutoff=80):\n",
    "    below = df[df[score_col] < cutoff]\n",
    "    above = df[df[score_col] >= cutoff]\n",
    "\n",
    "    X_below = sm.add_constant(below[score_col])\n",
    "    y_below = below[outcome_col]\n",
    "    model_below = sm.OLS(y_below, X_below).fit()\n",
    "\n",
    "    X_above = sm.add_constant(above[score_col])\n",
    "    y_above = above[outcome_col]\n",
    "    model_above = sm.OLS(y_above, X_above).fit()\n",
    "\n",
    "    return {\n",
    "        \"slope_below\": model_below.params[score_col],\n",
    "        \"slope_above\": model_above.params[score_col],\n",
    "        \"r2_below\": model_below.rsquared,\n",
    "        \"r2_above\": model_above.rsquared\n",
    "    }\n",
    "\n",
    "# Apply to both datasets\n",
    "results_a = analyze_rdd(df_a, \"X\", \"Y\")\n",
    "results_b = analyze_rdd(df_b, \"X2\", \"Y2\")\n",
    "\n",
    "results_a, results_b"
   ]
  }
 ],
 "metadata": {
  "kernelspec": {
   "display_name": "Python 3",
   "language": "python",
   "name": "python3"
  },
  "language_info": {
   "codemirror_mode": {
    "name": "ipython",
    "version": 3
   },
   "file_extension": ".py",
   "mimetype": "text/x-python",
   "name": "python",
   "nbconvert_exporter": "python",
   "pygments_lexer": "ipython3",
   "version": "3.12.1"
  }
 },
 "nbformat": 4,
 "nbformat_minor": 2
}
